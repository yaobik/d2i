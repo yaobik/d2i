{
 "cells": [
  {
   "cell_type": "code",
   "execution_count": null,
   "metadata": {},
   "outputs": [],
   "source": [
    "# get 1d data\n",
    "# python -m qlib.run.get_data qlib_data --target_dir qlib_data/cn_data --region cn\n",
    "\n",
    "# get 1min data\n",
    "# python -m qlib.run.get_data qlib_data --target_dir ~/.qlib/qlib_data/cn_data_1min --region cn --interval 1min\n"
   ]
  },
  {
   "cell_type": "code",
   "execution_count": 2,
   "metadata": {},
   "outputs": [
    {
     "name": "stderr",
     "output_type": "stream",
     "text": [
      "[17631:MainThread](2024-04-09 21:39:42,085) INFO - qlib.Initialization - [config.py:416] - default_conf: client.\n",
      "[17631:MainThread](2024-04-09 21:39:42,089) INFO - qlib.Initialization - [__init__.py:74] - qlib successfully initialized based on client settings.\n",
      "[17631:MainThread](2024-04-09 21:39:42,090) INFO - qlib.Initialization - [__init__.py:76] - data_path={'__DEFAULT_FREQ': PosixPath('/Users/jingyao/Project/dive2interest/qlib_data/cn_data')}\n"
     ]
    },
    {
     "name": "stdout",
     "output_type": "stream",
     "text": [
      "                        feature                  label          \n",
      "                           MACD        CLOSE     LABEL MOMENTUM5\n",
      "datetime   instrument                                           \n",
      "2010-01-04 SH000300   -0.000702     3.597137 -0.006260  0.032250\n",
      "           SH000903    0.000789     2.453841 -0.008915  0.036277\n",
      "           SH000905   -0.000120  4510.529785 -0.001580  0.030698\n",
      "           SH600000   -0.008625     4.260015 -0.019672  0.041278\n",
      "           SH600004    0.002348     1.610049 -0.014721  0.035714\n",
      "...                         ...          ...       ...       ...\n",
      "2017-12-29 SZ300729    0.000747     1.386939 -0.027484  0.064723\n",
      "           SZ300730         NaN          NaN -0.022530       NaN\n",
      "           SZ300731    0.031675     2.006299 -0.059219  0.062778\n",
      "           SZ300732    0.004984     1.355631 -0.025920 -0.002838\n",
      "           SZ300735    0.000000     1.000000  0.099812       NaN\n",
      "\n",
      "[4780729 rows x 4 columns]\n"
     ]
    }
   ],
   "source": [
    "import qlib\n",
    "from qlib.config import REG_CN\n",
    "from qlib.data.dataset.loader import QlibDataLoader\n",
    "\n",
    "if __name__ == \"__main__\":\n",
    "    MACD_EXP = '(EMA($close, 12) - EMA($close, 26))/$close - EMA((EMA($close, 12) - EMA($close, 26))/$close, 9)/$close'\n",
    "    fields = [MACD_EXP, '$close']  # MACD\n",
    "    names = ['MACD', 'CLOSE']\n",
    "    labels = ['Ref($close, -2)/Ref($close, -1) - 1', '$close/Ref($close,5) - 1']  # label\n",
    "    label_names = ['LABEL', 'MOMENTUM5']\n",
    "\n",
    "    qlib.init(provider_uri='qlib_data/cn_data', region=REG_CN)\n",
    "\n",
    "    data_loader_config = {\n",
    "        \"feature\": (fields, names),\n",
    "        \"label\": (labels, label_names)\n",
    "    }\n",
    "\n",
    "    data_loader = QlibDataLoader(config=data_loader_config)\n",
    "    df = data_loader.load(instruments='all', start_time='2010-01-01', end_time='2017-12-31')\n",
    "\n",
    "    print(df)"
   ]
  }
 ],
 "metadata": {
  "kernelspec": {
   "display_name": "d2i",
   "language": "python",
   "name": "python3"
  },
  "language_info": {
   "codemirror_mode": {
    "name": "ipython",
    "version": 3
   },
   "file_extension": ".py",
   "mimetype": "text/x-python",
   "name": "python",
   "nbconvert_exporter": "python",
   "pygments_lexer": "ipython3",
   "version": "3.8.19"
  }
 },
 "nbformat": 4,
 "nbformat_minor": 2
}
